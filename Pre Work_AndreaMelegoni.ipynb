{
 "cells": [
  {
   "cell_type": "markdown",
   "metadata": {},
   "source": [
    "## <center>Introduction to Python Programming – Mini Project</center>\n"
   ]
  },
  {
   "cell_type": "markdown",
   "metadata": {},
   "source": [
    "### Problem 1\n",
    "\n",
    "Write a program to calculate area of shapes. Your program should be capable of calculating the area of a square, rectangle, triangle and a circle. The user should be presented with options to select the shape. Based on which shape is chosen by the user, the program should ask for the appropriate input and print the resulting area on the screen.\n",
    "\n",
    "When the program is run, the screen should display something like this:\n",
    "\n",
    "**Which shape would you like to calculate the area for? Please enter the option number-**<br>\n",
    "**1. Square**<br>\n",
    "**2. Rectangle**<br>\n",
    "**3. Triangle**<br>\n",
    "**4. Circle**<br>\n",
    "**Enter Option: _**\n",
    "\n",
    "Say the user enters the option 1.\n",
    "\n",
    "**Please enter the length of a side: _**\n",
    "\n",
    "If the user enters a value of 5. The output should be:\n",
    "\n",
    "**The area of the square is 25**\n",
    "\n",
    "This program should indicate that the input is invalid if the user enters a character instead of a number as input. For instance if the user enters a value of ‘a’ instead of 5 in the previous example the program should prompt:\n",
    "\n",
    "**Invalid input, please enter a number: _**\n"
   ]
  },
  {
   "cell_type": "code",
   "execution_count": 1,
   "metadata": {},
   "outputs": [
    {
     "name": "stdout",
     "output_type": "stream",
     "text": [
      "Which shape would you like to calculate the area for? Please enter the option number-\n",
      "1. Square\n",
      "2. Rectangle\n",
      "3. Triangle\n",
      "4. Circle\n",
      "Enter option: _ 1\n",
      "Please enter the length of a side: _5\n",
      "The area of square is 25\n"
     ]
    }
   ],
   "source": [
    "import math\n",
    "\n",
    "def calculateSquareShape():\n",
    "    global side\n",
    "    try:\n",
    "        side=int(input(\"Please enter the length of a side: _\"))\n",
    "    except ValueError:\n",
    "        print(\"Invalid input\")\n",
    "        calculateSquareShape()\n",
    "    finally:\n",
    "        return side**2\n",
    "\n",
    "def calculateRectangleShape():\n",
    "    global sSide,lSide\n",
    "    try:\n",
    "        sSide = int(input(\"Please enter the length of short side: _\"))\n",
    "        lSide=int(input(\"Please enter the length of long side: _\"))\n",
    "    except ValueError:\n",
    "        print(\"Invalid input\")\n",
    "        calculateRectangleShape()\n",
    "    finally:\n",
    "        return sSide*lSide\n",
    "\n",
    "def calculateTriangleShape():\n",
    "    global base,height\n",
    "    try:\n",
    "        base = int(input(\"Please enter the length of base: _\"))\n",
    "        height=int(input(\"Please enter the length of height: _\"))\n",
    "    except ValueError:\n",
    "        print(\"Invalid input\")\n",
    "        calculateTriangleShape()\n",
    "    finally:\n",
    "        return base*height/2\n",
    "\n",
    "def calculateCircleShape():\n",
    "    global radius\n",
    "    try:\n",
    "        radius=int(input(\"Please enter the length of radius: _\"))\n",
    "        Radius=radius\n",
    "    except ValueError:\n",
    "        print(\"Invalid input\")\n",
    "        calculateCircleShape()\n",
    "    finally:\n",
    "        return math.pi*radius**2\n",
    "\n",
    "def main():\n",
    "    area=0\n",
    "    choice=0\n",
    "    while choice<=5:\n",
    "        print(\"Which shape would you like to calculate the area for? Please enter the option number-\")\n",
    "        print(\"1. Square\")\n",
    "        print(\"2. Rectangle\")\n",
    "        print(\"3. Triangle\")\n",
    "        print(\"4. Circle\")\n",
    "        choice=int(input(\"Enter option: _ \"))\n",
    "        if choice==1:\n",
    "            area=calculateSquareShape()\n",
    "            print(\"The area of square is\",area)\n",
    "            return\n",
    "        elif choice==2:\n",
    "            area=calculateRectangleShape()\n",
    "            print(\"The area of rectangle is\", area)\n",
    "            return\n",
    "        elif choice==3:\n",
    "            area=calculateTriangleShape()\n",
    "            print(\"The area of triangle is\", area)\n",
    "            return\n",
    "        elif choice==4:\n",
    "            area=calculateCircleShape()\n",
    "            print(\"The area of cirlce is\", area)\n",
    "            return\n",
    "    else:\n",
    "        print(\"Invalid choice! Please choose one among options listed above\")\n",
    "        main()\n",
    "\n",
    "main()"
   ]
  },
  {
   "cell_type": "code",
   "execution_count": 2,
   "metadata": {},
   "outputs": [
    {
     "name": "stdout",
     "output_type": "stream",
     "text": [
      "Which shape would you like to calculate the area for? Please enter the option number-\n",
      "1. Square\n",
      "2. Rectangle\n",
      "3. Triangle\n",
      "4. Circle\n",
      "Enter option: _ 1\n",
      "Please enter the length of a side: _a\n",
      "Invalid input\n",
      "Please enter the length of a side: _b\n",
      "Invalid input\n",
      "Please enter the length of a side: _c\n",
      "Invalid input\n",
      "Please enter the length of a side: _5\n",
      "The area of square is 25\n"
     ]
    }
   ],
   "source": [
    "main()"
   ]
  },
  {
   "cell_type": "markdown",
   "metadata": {},
   "source": [
    "### Problem 2\n",
    "\n",
    "You have newly joined an organization abc.com. Write a python function that will take your 1st and last name as input and print the official mail as which has a format like firstname.lastname@abc.com\n",
    "\n",
    "When the program is run, the screen should display something like this:\n",
    "\n",
    "Enter your first name: nikhil\n",
    "\n",
    "Enter your last name: agrawal\n",
    "\n",
    "You official email id is nikhil.agrawal@abc.com \n",
    "\n",
    "**Hint:** use string concatenation."
   ]
  },
  {
   "cell_type": "code",
   "execution_count": 3,
   "metadata": {},
   "outputs": [
    {
     "name": "stdout",
     "output_type": "stream",
     "text": [
      "Enter your first name: Andrea\n",
      "Enter your last name: Melegoni\n",
      "Your official email id is Andrea.Melegoni@abc.com\n"
     ]
    }
   ],
   "source": [
    "def main():\n",
    "    first=input(\"Enter your first name: \")\n",
    "    last=input(\"Enter your last name: \")\n",
    "    mailFunction(first,last)\n",
    "\n",
    "def mailFunction(first,last):\n",
    "    print(\"Your official email id is \"+first+\".\"+last+\"@abc.com\")\n",
    "\n",
    "main()"
   ]
  }
 ],
 "metadata": {
  "kernelspec": {
   "display_name": "Python 3 (ipykernel)",
   "language": "python",
   "name": "python3"
  },
  "language_info": {
   "codemirror_mode": {
    "name": "ipython",
    "version": 3
   },
   "file_extension": ".py",
   "mimetype": "text/x-python",
   "name": "python",
   "nbconvert_exporter": "python",
   "pygments_lexer": "ipython3",
   "version": "3.9.13"
  }
 },
 "nbformat": 4,
 "nbformat_minor": 2
}
